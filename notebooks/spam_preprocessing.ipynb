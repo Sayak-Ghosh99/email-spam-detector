{
 "cells": [
  {
   "cell_type": "code",
   "execution_count": 10,
   "id": "9687a63b",
   "metadata": {},
   "outputs": [
    {
     "name": "stdout",
     "output_type": "stream",
     "text": [
      "Accuracy: 0.9443946188340807\n",
      "\n",
      "Classification Report:\n",
      "               precision    recall  f1-score   support\n",
      "\n",
      "           0       0.94      1.00      0.97       965\n",
      "           1       0.97      0.61      0.75       150\n",
      "\n",
      "    accuracy                           0.94      1115\n",
      "   macro avg       0.96      0.80      0.86      1115\n",
      "weighted avg       0.95      0.94      0.94      1115\n",
      "\n",
      "\n",
      "Confusion Matrix:\n",
      " [[962   3]\n",
      " [ 59  91]]\n",
      "✅ Model and Vectorizer saved successfully.\n"
     ]
    }
   ],
   "source": [
    "# Step 1: Imports\n",
    "import pandas as pd\n",
    "from sklearn.model_selection import train_test_split\n",
    "from sklearn.feature_extraction.text import TfidfVectorizer\n",
    "from sklearn.linear_model import LogisticRegression\n",
    "from sklearn.metrics import accuracy_score, classification_report, confusion_matrix\n",
    "import joblib\n",
    "\n",
    "# Step 2: Load Dataset\n",
    "df = pd.read_csv('../data/spam.csv', encoding='latin-1')\n",
    "\n",
    "# Step 3: Clean and Rename Columns\n",
    "df = df[['v1', 'v2']]\n",
    "df.columns = ['label', 'text']\n",
    "\n",
    "# Optional: Check for nulls\n",
    "df.dropna(inplace=True)\n",
    "\n",
    "# Step 4: Convert labels to binary\n",
    "df['label'] = df['label'].map({'ham': 0, 'spam': 1})\n",
    "\n",
    "# Step 5: Vectorize text using TF-IDF\n",
    "tfidf = TfidfVectorizer(stop_words='english')\n",
    "X = tfidf.fit_transform(df['text'])\n",
    "y = df['label']\n",
    "\n",
    "# Step 6: Train/Test Split\n",
    "X_train, X_test, y_train, y_test = train_test_split(X, y, test_size=0.2, random_state=42)\n",
    "\n",
    "# Step 7: Train Logistic Regression Model\n",
    "model = LogisticRegression(max_iter=1000)\n",
    "model.fit(X_train, y_train)\n",
    "\n",
    "# Step 8: Evaluate\n",
    "y_pred = model.predict(X_test)\n",
    "print(\"Accuracy:\", accuracy_score(y_test, y_pred))\n",
    "print(\"\\nClassification Report:\\n\", classification_report(y_test, y_pred))\n",
    "print(\"\\nConfusion Matrix:\\n\", confusion_matrix(y_test, y_pred))\n",
    "\n",
    "# Step 9: Save Model and Vectorizer\n",
    "joblib.dump(model, '../notebooks/spam_classifier.pkl')\n",
    "joblib.dump(tfidf, '../notebooks/vectorizer.pkl')\n",
    "\n",
    "print(\"✅ Model and Vectorizer saved successfully.\")\n",
    "\n",
    "\n"
   ]
  }
 ],
 "metadata": {
  "kernelspec": {
   "display_name": ".venv",
   "language": "python",
   "name": "python3"
  },
  "language_info": {
   "codemirror_mode": {
    "name": "ipython",
    "version": 3
   },
   "file_extension": ".py",
   "mimetype": "text/x-python",
   "name": "python",
   "nbconvert_exporter": "python",
   "pygments_lexer": "ipython3",
   "version": "3.13.2"
  }
 },
 "nbformat": 4,
 "nbformat_minor": 5
}
